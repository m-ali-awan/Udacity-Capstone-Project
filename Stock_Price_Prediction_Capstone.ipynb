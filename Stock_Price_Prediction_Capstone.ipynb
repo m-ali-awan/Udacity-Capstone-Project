{
 "cells": [
  {
   "cell_type": "code",
   "execution_count": 2,
   "metadata": {},
   "outputs": [],
   "source": [
    "import numpy as np\n",
    "import pandas as pd\n",
    "import matplotlib.pyplot as plt\n",
    "%matplotlib inline"
   ]
  },
  {
   "cell_type": "code",
   "execution_count": 3,
   "metadata": {},
   "outputs": [],
   "source": [
    "import sagemaker\n",
    "from sagemaker.estimator import Estimator\n",
    "from sagemaker.predictor import RealTimePredictor\n",
    "from sagemaker.predictor import csv_serializer\n"
   ]
  },
  {
   "cell_type": "markdown",
   "metadata": {},
   "source": [
    "*Defining Hyperparameters*"
   ]
  },
  {
   "cell_type": "code",
   "execution_count": 6,
   "metadata": {},
   "outputs": [],
   "source": [
    "interval='D' # Daily\n",
    "lag=20 # The time of context\n",
    "horizon=10 #The time for which it can forecast\n",
    "dateformat='%Y-%m-%d'\n",
    "target_stock='BMW'\n",
    "covariate_stocks='CON,DAI,PAH3,VOW3'\n",
    "target_column='EndPrice'\n",
    "covariate_columns='StartPrice,MinPrice,MaxPrice'\n",
    "num_epochs=1000\n",
    "batch_size=4096\n",
    "dropout_ratio=0.1\n",
    "percent_train=0.85"
   ]
  },
  {
   "cell_type": "code",
   "execution_count": 8,
   "metadata": {},
   "outputs": [],
   "source": [
    "hyperparameters = {\n",
    "    \"interval\": interval,\n",
    "    \"lag\": str(lag),\n",
    "    \"horizon\": str(horizon),\n",
    "    \"num_epochs\": str(num_epochs),\n",
    "    \"batch_size\": str(batch_size),\n",
    "    \"percent_train\": str(percent_train),\n",
    "#    \"num_units\": str(num_units),\n",
    "    \"target_stock\": target_stock,\n",
    "    \"covariate_stocks\": covariate_stocks,\n",
    "    \"target_column\": target_column,\n",
    "    \"covariate_columns\": covariate_columns,\n",
    "    \"dropout_ratio\": str(dropout_ratio)\n",
    "    \n",
    "}"
   ]
  },
  {
   "cell_type": "code",
   "execution_count": null,
   "metadata": {},
   "outputs": [],
   "source": []
  }
 ],
 "metadata": {
  "kernelspec": {
   "display_name": "conda_amazonei_mxnet_p36",
   "language": "python",
   "name": "conda_amazonei_mxnet_p36"
  },
  "language_info": {
   "codemirror_mode": {
    "name": "ipython",
    "version": 3
   },
   "file_extension": ".py",
   "mimetype": "text/x-python",
   "name": "python",
   "nbconvert_exporter": "python",
   "pygments_lexer": "ipython3",
   "version": "3.6.10"
  }
 },
 "nbformat": 4,
 "nbformat_minor": 4
}
